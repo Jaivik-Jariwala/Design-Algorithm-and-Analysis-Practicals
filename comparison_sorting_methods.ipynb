{
 "cells": [
  {
   "cell_type": "code",
   "execution_count": null,
   "metadata": {},
   "outputs": [],
   "source": [
    "import numpy \n",
    "arr=numpy.random.randint(10000,size=(100000))\n",
    "import time\n",
    "import copy"
   ]
  },
  {
   "cell_type": "code",
   "execution_count": null,
   "metadata": {},
   "outputs": [],
   "source": [
    "def selection(arr): \n",
    "    count=0\n",
    "    for i in range(len(arr)):\n",
    "        min = i \n",
    "        for j in range(i+1, len(arr)):  \n",
    "            count += 1\n",
    "            if arr[min] > arr[j]:  \n",
    "                min = j  \n",
    "        arr[i], arr[min] = arr[min], arr[i]\n",
    "    return count"
   ]
  },
  {
   "cell_type": "code",
   "execution_count": null,
   "metadata": {},
   "outputs": [],
   "source": [
    "def insertion_sort(arr):\n",
    "    count = 0\n",
    "    for i in range(0,len(arr)):\n",
    "        val=arr[i]\n",
    "        j=i-1\n",
    "        while j>=0 and val<arr[j]:\n",
    "            arr[j+1] = arr[j]\n",
    "            j-=1\n",
    "            count+=1\n",
    "        arr[j+1]=val\n",
    "    return(arr, count)"
   ]
  },
  {
   "cell_type": "code",
   "execution_count": null,
   "metadata": {},
   "outputs": [],
   "source": [
    "def merge_sort(arr):\n",
    "    global count\n",
    "    if len(arr) <= 1:\n",
    "        return arr\n",
    "    middle = len(arr) // 2\n",
    "    left = arr[:middle]\n",
    "    right = arr[middle:]\n",
    "    left = merge_sort(left)\n",
    "    right = merge_sort(right)\n",
    "    count += 1\n",
    "    return merge(left, right)\n",
    "\n",
    "def merge(left, right):\n",
    "    result = []\n",
    "    i = 0\n",
    "    j = 0\n",
    "    while i < len(left) and j < len(right):\n",
    "        if left[i] <= right[j]:\n",
    "            result.append(left[i])\n",
    "            i += 1\n",
    "        else:\n",
    "            result.append(right[j])\n",
    "            j += 1\n",
    "    result += left[i:]\n",
    "    result += right[j:]\n",
    "    return result\n"
   ]
  },
  {
   "cell_type": "code",
   "execution_count": null,
   "metadata": {},
   "outputs": [],
   "source": [
    "def quick_sort(arr):\n",
    "    if len(arr) <= 1:\n",
    "        return arr\n",
    "    else:\n",
    "        pivot = arr[0]\n",
    "        less = [x for x in arr[1:] if x <= pivot]\n",
    "        greater = [x for x in arr[1:] if x > pivot]\n",
    "        return quick_sort(less) + [pivot] + quick_sort(greater)\n"
   ]
  },
  {
   "cell_type": "code",
   "execution_count": null,
   "metadata": {},
   "outputs": [],
   "source": [
    "def printArr(a): \n",
    "    for i in range(len(a)):  \n",
    "        print (a[i], end = \" \")\n",
    "printArr(arr)"
   ]
  },
  {
   "cell_type": "code",
   "execution_count": null,
   "metadata": {},
   "outputs": [],
   "source": [
    "selection_arr = copy.copy(arr)\n",
    "selection_arr = arr[:]\n",
    "selection(selection_arr)\n",
    "printArr(selection_arr)"
   ]
  },
  {
   "cell_type": "code",
   "execution_count": 85,
   "metadata": {},
   "outputs": [],
   "source": [
    "insertion_arr = copy.copy(arr)\n",
    "insertion_arr = arr[:]\n",
    "insertion_sort(insertion_arr)\n",
    "printArr(insertion_arr)"
   ]
  },
  {
   "cell_type": "code",
   "execution_count": null,
   "metadata": {},
   "outputs": [],
   "source": [
    "quick_arr = copy.copy(arr)\n",
    "quick_arr = arr[:]\n",
    "quick_sort(quick_arr)\n",
    "printArr(quick_arr)"
   ]
  },
  {
   "cell_type": "code",
   "execution_count": null,
   "metadata": {},
   "outputs": [],
   "source": [
    "merge_arr = copy.copy(arr)\n",
    "merge_arr = arr[:]\n",
    "merge_sort(merge_arr)\n",
    "printArr(merge_arr)"
   ]
  }
 ],
 "metadata": {
  "kernelspec": {
   "display_name": "Python 3",
   "language": "python",
   "name": "python3"
  },
  "language_info": {
   "codemirror_mode": {
    "name": "ipython",
    "version": 3
   },
   "file_extension": ".py",
   "mimetype": "text/x-python",
   "name": "python",
   "nbconvert_exporter": "python",
   "pygments_lexer": "ipython3",
   "version": "3.10.9"
  },
  "orig_nbformat": 4,
  "vscode": {
   "interpreter": {
    "hash": "02a110e1074083a006aec0a8c26b62f40bb8e29fc9e284ac5ec8792dea79dfd5"
   }
  }
 },
 "nbformat": 4,
 "nbformat_minor": 2
}
