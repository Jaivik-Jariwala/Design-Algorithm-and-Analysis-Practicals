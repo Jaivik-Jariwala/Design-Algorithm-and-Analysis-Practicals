{
 "cells": [
  {
   "cell_type": "code",
   "execution_count": 1,
   "metadata": {},
   "outputs": [
    {
     "name": "stdout",
     "output_type": "stream",
     "text": [
      " The LCS algorithm (Longest Common Subsequence) is a dynamic programming algorithm used to find the longest subsequence common to two sequences. In Python, you can implement the LCS algorithm using a 2D array and dynamic programming\n"
     ]
    }
   ],
   "source": [
    "print (\" The LCS algorithm (Longest Common Subsequence) is a dynamic programming algorithm used to find the longest subsequence common to two sequences. In Python, you can implement the LCS algorithm using a 2D array and dynamic programming\")"
   ]
  },
  {
   "cell_type": "code",
   "execution_count": 2,
   "metadata": {},
   "outputs": [],
   "source": [
    "def lcs(x, y):\n",
    "    m = len(x)\n",
    "    n = len(y)\n",
    "\n",
    "    # create an (m+1) x (n+1) array to store the LCS lengths\n",
    "    lcs_lengths = [[0] * (n+1) for i in range(m+1)]\n",
    "\n",
    "    # iterate over the sequences and fill in the LCS lengths array\n",
    "    for i in range(1, m+1):\n",
    "        for j in range(1, n+1):\n",
    "            if x[i-1] == y[j-1]:\n",
    "                lcs_lengths[i][j] = lcs_lengths[i-1][j-1] + 1\n",
    "            else:\n",
    "                lcs_lengths[i][j] = max(lcs_lengths[i-1][j], lcs_lengths[i][j-1])\n",
    "\n",
    "    # backtrack through the LCS lengths array to find the LCS\n",
    "    lcs = \"\"\n",
    "    i = m\n",
    "    j = n\n",
    "    while i > 0 and j > 0:\n",
    "        if x[i-1] == y[j-1]:\n",
    "            lcs = x[i-1] + lcs\n",
    "            i -= 1\n",
    "            j -= 1\n",
    "        elif lcs_lengths[i-1][j] > lcs_lengths[i][j-1]:\n",
    "            i -= 1\n",
    "        else:\n",
    "            j -= 1\n",
    "\n",
    "    return lcs\n"
   ]
  },
  {
   "cell_type": "code",
   "execution_count": 3,
   "metadata": {},
   "outputs": [
    {
     "name": "stdout",
     "output_type": "stream",
     "text": [
      "ADH\n"
     ]
    }
   ],
   "source": [
    "x = \"ABCDGH\"\n",
    "y = \"AEDFHR\"\n",
    "print(lcs(x, y)) # Output: ADH\n"
   ]
  }
 ],
 "metadata": {
  "kernelspec": {
   "display_name": "Python 3",
   "language": "python",
   "name": "python3"
  },
  "language_info": {
   "codemirror_mode": {
    "name": "ipython",
    "version": 3
   },
   "file_extension": ".py",
   "mimetype": "text/x-python",
   "name": "python",
   "nbconvert_exporter": "python",
   "pygments_lexer": "ipython3",
   "version": "3.10.11"
  },
  "orig_nbformat": 4
 },
 "nbformat": 4,
 "nbformat_minor": 2
}
