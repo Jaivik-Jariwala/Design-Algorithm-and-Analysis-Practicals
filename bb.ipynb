{
 "cells": [
  {
   "cell_type": "code",
   "execution_count": 3,
   "metadata": {},
   "outputs": [],
   "source": [
    "import heapq\n",
    "\n",
    "def tsp(graph):\n",
    "    n = len(graph)\n",
    "    visited = set()\n",
    "    pq = [(0, [0])]\n",
    "    best_tour = float('inf')\n",
    "\n",
    "    while pq:\n",
    "        (cost, path) = heapq.heappop(pq)\n",
    "\n",
    "        if cost >= best_tour:\n",
    "            continue\n",
    "\n",
    "        if len(path) == n:\n",
    "            cost += graph[path[-1]][0]\n",
    "            if cost < best_tour:\n",
    "                best_tour = cost\n",
    "\n",
    "        for i in range(n):\n",
    "            if i not in visited:\n",
    "                new_cost = cost + graph[path[-1]][i]\n",
    "                new_path = path + [i]\n",
    "                heapq.heappush(pq, (new_cost, new_path))\n",
    "\n",
    "        visited.add(path[-1])\n",
    "\n",
    "    return best_tour\n"
   ]
  },
  {
   "cell_type": "code",
   "execution_count": 4,
   "metadata": {},
   "outputs": [
    {
     "data": {
      "text/plain": [
       "20"
      ]
     },
     "execution_count": 4,
     "metadata": {},
     "output_type": "execute_result"
    }
   ],
   "source": [
    "graph = [[0, 10, 15, 20],\n",
    "         [10, 0, 35, 25],\n",
    "         [15, 35, 0, 30],\n",
    "         [20, 25, 30, 0]]\n",
    "tsp(graph)"
   ]
  }
 ],
 "metadata": {
  "kernelspec": {
   "display_name": "Python 3",
   "language": "python",
   "name": "python3"
  },
  "language_info": {
   "codemirror_mode": {
    "name": "ipython",
    "version": 3
   },
   "file_extension": ".py",
   "mimetype": "text/x-python",
   "name": "python",
   "nbconvert_exporter": "python",
   "pygments_lexer": "ipython3",
   "version": "3.9.0"
  },
  "orig_nbformat": 4
 },
 "nbformat": 4,
 "nbformat_minor": 2
}
