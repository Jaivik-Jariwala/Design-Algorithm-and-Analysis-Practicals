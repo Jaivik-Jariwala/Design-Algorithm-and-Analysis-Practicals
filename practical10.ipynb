{
 "cells": [
  {
   "attachments": {},
   "cell_type": "markdown",
   "metadata": {},
   "source": [
    "This problem can be solved using dynamic programming. Let 𝐹(𝑖,𝑗) be the minimum amount of money required to purchase the first 𝑖 licenses, where the 𝑖-th license is bought in month 𝑗. We need to compute 𝐹(𝑛,𝑗) for all 𝑗 = 1,2,...,𝑛.\n",
    "\n",
    "To compute 𝐹(𝑖,𝑗), we have two options: either we buy the 𝑖-th license in month 𝑗, or we skip buying it in month 𝑗 and buy it in a later month. If we buy the 𝑖-th license in month 𝑗, then the total cost is 100𝑟𝑖𝑗 plus the cost of buying the first 𝑖−1 licenses in the previous 𝑗−1 months, which is 𝐹(𝑖−1,𝑗−1). If we skip buying the 𝑖-th license in month 𝑗, then the total cost is 𝐹(𝑖,𝑗−1).\n",
    "\n",
    "Therefore, we have the following recurrence relation:\n",
    "\n",
    "𝐹(𝑖,𝑗) = min{100𝑟𝑖𝑗 + 𝐹(𝑖−1,𝑗−1), 𝐹(𝑖,𝑗−1)}\n",
    "\n",
    "The base cases are 𝐹(0,𝑗) = 0 for all 𝑗, since we don't need to buy any licenses, and 𝐹(𝑖,0) = ∞ for all 𝑖 > 0, since we cannot buy any licenses in month 0.\n",
    "\n",
    "To find the optimal order to buy the licenses, we can keep track of the values of 𝑗 that minimize 𝐹(𝑛,𝑗) for each 𝑛. Starting from 𝑛 = 𝑛, we can backtrack through the optimal values of 𝑗 to obtain the optimal order.\n",
    "\n",
    "The time complexity of this algorithm is 𝑂(𝑛^2), since we need to compute 𝐹(𝑖,𝑗) for all 𝑖 = 1,2,...,𝑛 and 𝑗 = 1,2,...,𝑛. However, we can optimize the algorithm by observing that 𝐹(𝑖,𝑗) depends only on 𝐹(𝑖−1,𝑗−1) and 𝐹(𝑖,𝑗−1), so we only need to keep track of two rows of the table at a time. This reduces the space complexity to 𝑂(𝑛)."
   ]
  },
  {
   "cell_type": "code",
   "execution_count": 5,
   "metadata": {},
   "outputs": [],
   "source": [
    "def optimal_order(rates):\n",
    "    n = len(rates)\n",
    "    F = [[float('inf')] * (n+1) for _ in range(2)]\n",
    "    F[0][0] = F[1][0] = 0\n",
    "\n",
    "    for i in range(1, n+1):\n",
    "        curr, prev = i % 2, (i-1) % 2\n",
    "        for j in range(1, n+1):\n",
    "            F[curr][j] = min(100 * rates[i-1] * j + F[prev][j-1], F[curr][j-1])\n",
    "\n",
    "    order = []\n",
    "    j = n\n",
    "    for i in range(n, 0, -1):\n",
    "        curr, prev = i % 2, (i-1) % 2\n",
    "        if F[curr][j] < F[prev][j]:\n",
    "            order.append(i)\n",
    "            j -= 1\n",
    "\n",
    "    return order[::-1]\n"
   ]
  },
  {
   "attachments": {},
   "cell_type": "markdown",
   "metadata": {},
   "source": [
    "The optimal_order function takes a list of growth rates rates and returns the optimal order in which to buy the licenses. The algorithm uses a 2-row table to compute the values of F, and uses backtracking to obtain the optimal order. The function has a time complexity of 𝑂(𝑛^2) and a space complexity of 𝑂(𝑛)."
   ]
  },
  {
   "cell_type": "code",
   "execution_count": 9,
   "metadata": {},
   "outputs": [
    {
     "name": "stdout",
     "output_type": "stream",
     "text": [
      "[]\n"
     ]
    }
   ],
   "source": [
    "rates = [2, 4, 1, 3, 5]\n",
    "optimal_order_list = optimal_order(rates)\n",
    "print(optimal_order_list) "
   ]
  }
 ],
 "metadata": {
  "kernelspec": {
   "display_name": "Python 3",
   "language": "python",
   "name": "python3"
  },
  "language_info": {
   "codemirror_mode": {
    "name": "ipython",
    "version": 3
   },
   "file_extension": ".py",
   "mimetype": "text/x-python",
   "name": "python",
   "nbconvert_exporter": "python",
   "pygments_lexer": "ipython3",
   "version": "3.9.0"
  },
  "orig_nbformat": 4
 },
 "nbformat": 4,
 "nbformat_minor": 2
}
