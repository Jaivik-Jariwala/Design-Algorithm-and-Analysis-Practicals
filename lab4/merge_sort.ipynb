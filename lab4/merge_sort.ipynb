{
 "cells": [
  {
   "attachments": {},
   "cell_type": "markdown",
   "metadata": {},
   "source": [
    "Aim : \n",
    "\n",
    "To perform Merge sort on Randomly Generate array"
   ]
  },
  {
   "attachments": {},
   "cell_type": "markdown",
   "metadata": {},
   "source": [
    "\n",
    "Introduction : \n",
    "Merge sort is a sorting algorithm that uses a divide-and-conquer approach to sort an array or a list of elements. The basic idea behind the algorithm is to divide the input array into two equal-sized arrays, sort each spllited array individually, and then merge the two sorted arrays back into a single, sorted array. The algorithm uses recursion to repeatedly divide the input array into smaller and smaller arrays until each subarray contains only a single element, which are already considered sorted. The merge step then combines the sorted arrays back into a single, sorted array. Merge sort has a time complexity of O(n log n), making it more efficient than some other sorting algorithms such as bubble sort or insertion sort.\n"
   ]
  },
  {
   "attachments": {},
   "cell_type": "markdown",
   "metadata": {},
   "source": [
    "Algorithm : \n",
    "\n",
    "1) Divide the input array into two equal-sized subarrays.\n",
    "\n",
    "2) Recursively sort each subarray by calling the merge sort function on each subarray.\n",
    "\n",
    "3) Merge the two sorted subarrays back into a single, sorted array."
   ]
  },
  {
   "attachments": {},
   "cell_type": "markdown",
   "metadata": {},
   "source": [
    "PseudoCode : \n",
    "\n",
    "function mergeSort(array)\n",
    "    if (length of array <= 1) return array\n",
    "    middle = length of array / 2\n",
    "    left = mergeSort(subarray of array from 0 to middle)\n",
    "    right = mergeSort(subarray of array from middle to end)\n",
    "    return merge(left, right)\n",
    "\n",
    "function merge(left, right)\n",
    "    result = empty array\n",
    "    while (left and right are not empty)\n",
    "        if (first element of left <= first element of right)\n",
    "            append first element of left to result\n",
    "            remove first element of left\n",
    "        else\n",
    "            append first element of right to result\n",
    "            remove first element of right\n",
    "    while (left is not empty)\n",
    "        append first element of left to result\n",
    "        remove first element of left\n",
    "    while (right is not empty)\n",
    "        append first element of right to result\n",
    "        remove first element of right\n",
    "    return result"
   ]
  },
  {
   "attachments": {},
   "cell_type": "markdown",
   "metadata": {},
   "source": [
    "For Average Case : "
   ]
  },
  {
   "cell_type": "code",
   "execution_count": 7,
   "metadata": {},
   "outputs": [
    {
     "name": "stdout",
     "output_type": "stream",
     "text": [
      "Before sorting array elements are - \n",
      "[17 15 85  4 15 24 76 33 98 53]\n"
     ]
    },
    {
     "ename": "ValueError",
     "evalue": "non-broadcastable output operand with shape (1,) doesn't match the broadcast shape (0,)",
     "output_type": "error",
     "traceback": [
      "\u001b[1;31m---------------------------------------------------------------------------\u001b[0m",
      "\u001b[1;31mValueError\u001b[0m                                Traceback (most recent call last)",
      "Cell \u001b[1;32mIn[7], line 35\u001b[0m\n\u001b[0;32m     33\u001b[0m \u001b[39mprint\u001b[39m(\u001b[39m\"\u001b[39m\u001b[39mBefore sorting array elements are - \u001b[39m\u001b[39m\"\u001b[39m)  \n\u001b[0;32m     34\u001b[0m \u001b[39mprint\u001b[39m(arr)  \n\u001b[1;32m---> 35\u001b[0m count \u001b[39m=\u001b[39m merge_sort(arr)  \n\u001b[0;32m     36\u001b[0m \u001b[39mprint\u001b[39m(\u001b[39m\"\u001b[39m\u001b[39m\\n\u001b[39;00m\u001b[39mAfter sorting array elements are - \u001b[39m\u001b[39m\"\u001b[39m)  \n\u001b[0;32m     37\u001b[0m \u001b[39mprint\u001b[39m(arr)\n",
      "Cell \u001b[1;32mIn[7], line 12\u001b[0m, in \u001b[0;36mmerge_sort\u001b[1;34m(arr)\u001b[0m\n\u001b[0;32m     10\u001b[0m left \u001b[39m=\u001b[39m arr[:middle]\n\u001b[0;32m     11\u001b[0m right \u001b[39m=\u001b[39m arr[middle:]\n\u001b[1;32m---> 12\u001b[0m left \u001b[39m=\u001b[39m merge_sort(left)\n\u001b[0;32m     13\u001b[0m right \u001b[39m=\u001b[39m merge_sort(right)\n\u001b[0;32m     14\u001b[0m count \u001b[39m+\u001b[39m\u001b[39m=\u001b[39m \u001b[39m1\u001b[39m\n",
      "Cell \u001b[1;32mIn[7], line 12\u001b[0m, in \u001b[0;36mmerge_sort\u001b[1;34m(arr)\u001b[0m\n\u001b[0;32m     10\u001b[0m left \u001b[39m=\u001b[39m arr[:middle]\n\u001b[0;32m     11\u001b[0m right \u001b[39m=\u001b[39m arr[middle:]\n\u001b[1;32m---> 12\u001b[0m left \u001b[39m=\u001b[39m merge_sort(left)\n\u001b[0;32m     13\u001b[0m right \u001b[39m=\u001b[39m merge_sort(right)\n\u001b[0;32m     14\u001b[0m count \u001b[39m+\u001b[39m\u001b[39m=\u001b[39m \u001b[39m1\u001b[39m\n",
      "Cell \u001b[1;32mIn[7], line 15\u001b[0m, in \u001b[0;36mmerge_sort\u001b[1;34m(arr)\u001b[0m\n\u001b[0;32m     13\u001b[0m right \u001b[39m=\u001b[39m merge_sort(right)\n\u001b[0;32m     14\u001b[0m count \u001b[39m+\u001b[39m\u001b[39m=\u001b[39m \u001b[39m1\u001b[39m\n\u001b[1;32m---> 15\u001b[0m \u001b[39mreturn\u001b[39;00m merge(left, right)\n",
      "Cell \u001b[1;32mIn[7], line 29\u001b[0m, in \u001b[0;36mmerge\u001b[1;34m(left, right)\u001b[0m\n\u001b[0;32m     27\u001b[0m         j \u001b[39m+\u001b[39m\u001b[39m=\u001b[39m \u001b[39m1\u001b[39m\n\u001b[0;32m     28\u001b[0m result \u001b[39m+\u001b[39m\u001b[39m=\u001b[39m left[i:]\n\u001b[1;32m---> 29\u001b[0m result \u001b[39m+\u001b[39m\u001b[39m=\u001b[39m right[j:]\n\u001b[0;32m     30\u001b[0m \u001b[39mreturn\u001b[39;00m result\n",
      "\u001b[1;31mValueError\u001b[0m: non-broadcastable output operand with shape (1,) doesn't match the broadcast shape (0,)"
     ]
    }
   ],
   "source": [
    "import numpy as np\n",
    "import time\n",
    "arr = numpy.random.randint(100, size=(10))\n",
    "\n",
    "def merge_sort(arr):\n",
    "    global count\n",
    "    if len(arr) <= 1:\n",
    "        return arr\n",
    "    middle = len(arr) // 2\n",
    "    left = arr[:middle]\n",
    "    right = arr[middle:]\n",
    "    left = merge_sort(left)\n",
    "    right = merge_sort(right)\n",
    "    count += 1\n",
    "    return merge(left, right)\n",
    "\n",
    "def merge(left, right):\n",
    "    result = []\n",
    "    i = 0\n",
    "    j = 0\n",
    "    while i < len(left) and j < len(right):\n",
    "        if left[i] <= right[j]:\n",
    "            result.append(left[i])\n",
    "            i += 1\n",
    "        else:\n",
    "            result.append(right[j])\n",
    "            j += 1\n",
    "    result += left[i:]\n",
    "    result += right[j:]\n",
    "    return result\n",
    "\n",
    "\n",
    "print(\"Before sorting array elements are - \")  \n",
    "print(arr)  \n",
    "count = merge_sort(arr)  \n",
    "print(\"\\nAfter sorting array elements are - \")  \n",
    "print(arr)\n",
    "print(\"\\nNumber of iterations: \", count)\n",
    "print(\"\\nTime taken: \", time.time() - start_time)\n"
   ]
  },
  {
   "attachments": {},
   "cell_type": "markdown",
   "metadata": {},
   "source": [
    "For Best Case : "
   ]
  },
  {
   "cell_type": "code",
   "execution_count": null,
   "metadata": {},
   "outputs": [],
   "source": []
  },
  {
   "attachments": {},
   "cell_type": "markdown",
   "metadata": {},
   "source": [
    "For Worst Case : \n"
   ]
  },
  {
   "cell_type": "code",
   "execution_count": null,
   "metadata": {},
   "outputs": [],
   "source": []
  },
  {
   "attachments": {},
   "cell_type": "markdown",
   "metadata": {},
   "source": [
    "Result : "
   ]
  },
  {
   "attachments": {},
   "cell_type": "markdown",
   "metadata": {},
   "source": [
    "Application : \n",
    "1) Sorting large Datasets \n",
    "2) Sorting in Parallel and Distributed System \n",
    "3) Sorting in External Memory \n",
    "4) Sorting in Version Control "
   ]
  },
  {
   "attachments": {},
   "cell_type": "markdown",
   "metadata": {},
   "source": [
    "Reference : \n",
    "Performance Anaylsis of Merge Sort Algorithm \n",
    "by Joella Lobo and S. Kuwelkar\n",
    "1 July 2020 "
   ]
  }
 ],
 "metadata": {
  "kernelspec": {
   "display_name": "Python 3",
   "language": "python",
   "name": "python3"
  },
  "language_info": {
   "codemirror_mode": {
    "name": "ipython",
    "version": 3
   },
   "file_extension": ".py",
   "mimetype": "text/x-python",
   "name": "python",
   "nbconvert_exporter": "python",
   "pygments_lexer": "ipython3",
   "version": "3.10.9 (tags/v3.10.9:1dd9be6, Dec  6 2022, 20:01:21) [MSC v.1934 64 bit (AMD64)]"
  },
  "orig_nbformat": 4,
  "vscode": {
   "interpreter": {
    "hash": "02a110e1074083a006aec0a8c26b62f40bb8e29fc9e284ac5ec8792dea79dfd5"
   }
  }
 },
 "nbformat": 4,
 "nbformat_minor": 2
}
