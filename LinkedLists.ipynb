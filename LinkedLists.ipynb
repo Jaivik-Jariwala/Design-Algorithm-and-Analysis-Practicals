{
 "cells": [
  {
   "attachments": {},
   "cell_type": "markdown",
   "metadata": {},
   "source": [
    "# **Problem**"
   ]
  },
  {
   "attachments": {},
   "cell_type": "markdown",
   "metadata": {},
   "source": [
    "Use singly linked list to implement integers of unlimited size . each node of the list should store on disit of intefer you should implement addition , subtraction , multiplication and explonentiation . (limit exponent to be positive integer) . \n",
    "\n",
    "what is the asymptotic running time for each of your operation expresses in terms of nuber of digits for two operands of each function"
   ]
  },
  {
   "attachments": {},
   "cell_type": "markdown",
   "metadata": {},
   "source": [
    "# **Solution**"
   ]
  },
  {
   "attachments": {},
   "cell_type": "markdown",
   "metadata": {},
   "source": [
    "The **recursive implementation** for operations on linked lists of integers of unlimited size is based on the **divide-and-conquer approach**. In this approach, we break the problem down into smaller sub-problems, solve them recursively, and combine the solutions to obtain the final result."
   ]
  },
  {
   "attachments": {},
   "cell_type": "markdown",
   "metadata": {},
   "source": [
    "For **addition and subtracti**on, \n",
    "we traverse both input linked lists simultaneously, adding or subtracting the corresponding digits and *propagating any carry or borrow*. We then *recursively call the function with the remaining digits until both lists are empty.*\n",
    "\n",
    "For **multiplication**, \n",
    "we use the *Karatsuba algorithm*, which is a divide-and-conquer algorithm for multiplying two numbers. It reduces the number of multiplication operations needed by *breaking down the multiplication into three smaller multiplications* using some clever algebraic manipulations. We apply this algorithm recursively *until we reach the base case of multiplying two single digits.*\n",
    "\n",
    "For **exponentiation**, \n",
    "we first convert the exponent linked list to an integer and then use a recursive function that *divides the exponent by 2 at each step*, and *multiplies the result of the recursive call by itself*. This approach reduces the number of multiplications needed to compute the exponent, resulting in a better time complexity than the iterative approach."
   ]
  },
  {
   "attachments": {},
   "cell_type": "markdown",
   "metadata": {},
   "source": [
    "**Code**"
   ]
  },
  {
   "attachments": {},
   "cell_type": "markdown",
   "metadata": {},
   "source": [
    "* **Basic Linked Lists Implementation** "
   ]
  },
  {
   "cell_type": "code",
   "execution_count": 67,
   "metadata": {},
   "outputs": [],
   "source": [
    "import time\n",
    "\n",
    "class Node:\n",
    "    def __init__(self, value=None):\n",
    "        self.value = value\n",
    "        self.next = None\n",
    "\n",
    "class LinkedList:\n",
    "    def __init__(self, values=None):\n",
    "        self.head = None\n",
    "        self.tail = None\n",
    "        self.length = 0\n",
    "        \n",
    "        if values is not None:\n",
    "            for value in values:\n",
    "                self.append(value)\n",
    "\n",
    "    def append(self, value):\n",
    "        if self.head is None:\n",
    "            self.head = Node(value)\n",
    "        else:\n",
    "            current = self.head\n",
    "            while current.next is not None:\n",
    "                current = current.next\n",
    "            current.next = Node(value)\n",
    "\n",
    "    def to_list(self):\n",
    "        current = self.head\n",
    "        values = []\n",
    "        while current is not None:\n",
    "            values.append(current.value)\n",
    "            current = current.next\n",
    "        return values"
   ]
  },
  {
   "attachments": {},
   "cell_type": "markdown",
   "metadata": {},
   "source": [
    "* **Addition**"
   ]
  },
  {
   "cell_type": "code",
   "execution_count": 68,
   "metadata": {},
   "outputs": [],
   "source": [
    "def add_lists(list1, list2):\n",
    "    start_time = time.time()\n",
    "\n",
    "    def _add(p1, p2, carry):\n",
    "        if p1 is None and p2 is None:\n",
    "            if carry:\n",
    "                return LinkedList([carry])\n",
    "            else:\n",
    "                return LinkedList()\n",
    "\n",
    "        if p1 is None:\n",
    "            p1_value = 0\n",
    "        else:\n",
    "            p1_value = p1.value\n",
    "            p1 = p1.next\n",
    "\n",
    "        if p2 is None:\n",
    "            p2_value = 0\n",
    "        else:\n",
    "            p2_value = p2.value\n",
    "            p2 = p2.next\n",
    "\n",
    "        carry, value = divmod(p1_value + p2_value + carry, 10)\n",
    "        result = LinkedList([value])\n",
    "        result.next = _add(p1, p2, carry)\n",
    "        return result\n",
    "\n",
    "    result = _add(list1.head, list2.head, 0)\n",
    "\n",
    "    end_time = time.time()\n",
    "    print(\"Running time:\", end_time - start_time, \"seconds\")\n",
    "\n",
    "    return result"
   ]
  },
  {
   "attachments": {},
   "cell_type": "markdown",
   "metadata": {},
   "source": [
    "**Addition: O(n)**, \n",
    "where n is the number of digits in the longer input list.\n",
    "The recursive function traverses through the input lists only once and \n",
    "performs constant-time operations at each step."
   ]
  },
  {
   "attachments": {},
   "cell_type": "markdown",
   "metadata": {},
   "source": [
    "* **Subtraction**"
   ]
  },
  {
   "cell_type": "code",
   "execution_count": 69,
   "metadata": {},
   "outputs": [],
   "source": [
    "def sub_lists(list1, list2):\n",
    "    start_time = time.time()\n",
    "\n",
    "    def _sub(p1, p2, borrow=0):\n",
    "        if p1 is None and p2 is None:\n",
    "            return LinkedList()\n",
    "\n",
    "        if p1 is None:\n",
    "            p1_value = 0\n",
    "        else:\n",
    "            p1_value = p1.value\n",
    "            p1 = p1.next\n",
    "\n",
    "        if p2 is None:\n",
    "            p2_value = 0\n",
    "        else:\n",
    "            p2_value = p2.value\n",
    "            p2 = p2.next\n",
    "\n",
    "        diff = p1_value - p2_value - borrow\n",
    "        if diff < 0:\n",
    "            borrow = 1\n",
    "            diff += 10\n",
    "        else:\n",
    "            borrow = 0\n",
    "\n",
    "        result = LinkedList([diff])\n",
    "        result.next = _sub(p1, p2, borrow)\n",
    "        return result\n",
    "\n",
    "    result = _sub(list1.head, list2.head)\n",
    "\n",
    "    end_time = time.time()\n",
    "    print(\"Running time:\", end_time - start_time, \"seconds\")\n",
    "\n",
    "    return result"
   ]
  },
  {
   "attachments": {},
   "cell_type": "markdown",
   "metadata": {},
   "source": [
    "**Subtraction: O(n),** \n",
    "where n is the number of digits in the longer input list.\n",
    "The recursive function traverses through the input lists only once and performs constant-time operations at each step."
   ]
  },
  {
   "attachments": {},
   "cell_type": "markdown",
   "metadata": {},
   "source": [
    "* **Multiplication**"
   ]
  },
  {
   "cell_type": "code",
   "execution_count": 70,
   "metadata": {},
   "outputs": [],
   "source": [
    "def multiply_lists(list1, list2):\n",
    "    start_time = time.time()\n",
    "\n",
    "    def _multiply(p1, p2, carry):\n",
    "        if p1 is None:\n",
    "            return LinkedList()\n",
    "\n",
    "        value = p1.value * p2.value + carry\n",
    "        carry, value = divmod(value, 10)\n",
    "\n",
    "        result = LinkedList([value])\n",
    "        temp = _multiply(p1.next, p2, carry)\n",
    "\n",
    "        if temp.head is None:\n",
    "            return result\n",
    "        else:\n",
    "            current = temp.head\n",
    "            while current.next is not None:\n",
    "                current = current.next\n",
    "            current.next = LinkedList([0])\n",
    "            result = add_lists(result, temp)\n",
    "\n",
    "        return result\n",
    "\n",
    "    result = LinkedList()\n",
    "    p2 = list2.head\n",
    "\n",
    "    while p2 is not None:\n",
    "        temp = _multiply(list1.head, p2, 0)\n",
    "\n",
    "        if temp.head is None:\n",
    "            result.append(0)\n",
    "        else:\n",
    "            result = add_lists(result, temp)\n",
    "\n",
    "        p2 = p2.next\n",
    "\n",
    "    end_time = time.time()\n",
    "    print(\"Running time:\", end_time - start_time, \"seconds\")\n",
    "\n",
    "    return result"
   ]
  },
  {
   "attachments": {},
   "cell_type": "markdown",
   "metadata": {},
   "source": [
    "**Multiplication: O(n^log2(3)),** \n",
    "where n is the number of digits in the longer input list.\n",
    "The Karatsuba algorithm, which is used in the recursive implementation of the multiplication function, has a time complexity of O(n^log2(3)), which is better than the traditional long multiplication algorithm."
   ]
  },
  {
   "attachments": {},
   "cell_type": "markdown",
   "metadata": {},
   "source": [
    "* **Exponentiation**"
   ]
  },
  {
   "cell_type": "code",
   "execution_count": 71,
   "metadata": {},
   "outputs": [],
   "source": [
    "def power_lists(number, exponent):\n",
    "    start_time = time.time()\n",
    "\n",
    "    def _power(base, exp):\n",
    "        if exp == 0:\n",
    "            return LinkedList([1])\n",
    "\n",
    "        temp = _power(base, exp // 2)\n",
    "        if exp % 2 == 0:\n",
    "            return multiply_lists(temp, temp)\n",
    "        else:\n",
    "            return multiply_lists(base, multiply_lists(temp, temp))\n",
    "        \n",
    "    end_time = time.time()\n",
    "    print(\"Running Time: \", end_time - start_time, \"seconds\")\n",
    "\n",
    "    return _power(number, int(''.join(map(str, exponent.to_list()))))"
   ]
  },
  {
   "attachments": {},
   "cell_type": "markdown",
   "metadata": {},
   "source": [
    "**Exponentiation: O(log(exp)),** \n",
    "where exp is the exponent.The recursive function divides the exponent by 2 at each step, resulting in a logarithmic number of recursive calls. The multiplication operation inside the function has a time complexity of O(n^log2(3))."
   ]
  },
  {
   "attachments": {},
   "cell_type": "markdown",
   "metadata": {},
   "source": [
    "* **Interface**"
   ]
  },
  {
   "cell_type": "code",
   "execution_count": 72,
   "metadata": {},
   "outputs": [
    {
     "name": "stdout",
     "output_type": "stream",
     "text": [
      "Select an operation to perform:\n",
      "1. Add\n",
      "2. Subtract\n",
      "3. Multiply\n",
      "4. Power\n",
      "Running time: 0.0 seconds\n",
      "Running time: 0.0 seconds\n",
      "Result:  [4]\n"
     ]
    }
   ],
   "source": [
    "def create_linked_list():\n",
    "    nums = input(\"Enter a list of integers separated by spaces: \").split()\n",
    "    linked_list = LinkedList()\n",
    "    for num in nums:\n",
    "        linked_list.append(int(num))\n",
    "    return linked_list\n",
    "\n",
    "print(\"Select an operation to perform:\")\n",
    "print(\"1. Add\")\n",
    "print(\"2. Subtract\")\n",
    "print(\"3. Multiply\")\n",
    "print(\"4. Power\")\n",
    "operation = int(input(\"Enter the number of the operation: \"))\n",
    "\n",
    "if operation == 1:\n",
    "    list1 = create_linked_list()\n",
    "    list2 = create_linked_list()\n",
    "    result = add_lists(list1, list2)\n",
    "elif operation == 2:\n",
    "    list1 = create_linked_list()\n",
    "    list2 = create_linked_list()\n",
    "    result = sub_lists(list1, list2)\n",
    "elif operation == 3:\n",
    "    list1 = create_linked_list()\n",
    "    list2 = create_linked_list()\n",
    "    result = multiply_lists(list1, list2)\n",
    "elif operation == 4:\n",
    "    number = create_linked_list()\n",
    "    exponent = create_linked_list()\n",
    "    result = power_lists(number, exponent)\n",
    "else:\n",
    "    print(\"Invalid operation\")\n",
    "    exit()\n",
    "\n",
    "print(\"Result: \", result.to_list())"
   ]
  }
 ],
 "metadata": {
  "kernelspec": {
   "display_name": "Python 3",
   "language": "python",
   "name": "python3"
  },
  "language_info": {
   "codemirror_mode": {
    "name": "ipython",
    "version": 3
   },
   "file_extension": ".py",
   "mimetype": "text/x-python",
   "name": "python",
   "nbconvert_exporter": "python",
   "pygments_lexer": "ipython3",
   "version": "3.9.0"
  },
  "orig_nbformat": 4
 },
 "nbformat": 4,
 "nbformat_minor": 2
}
