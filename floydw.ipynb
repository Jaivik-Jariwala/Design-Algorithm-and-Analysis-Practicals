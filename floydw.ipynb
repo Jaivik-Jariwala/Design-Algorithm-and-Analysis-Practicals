{
 "cells": [
  {
   "cell_type": "code",
   "execution_count": 1,
   "metadata": {},
   "outputs": [
    {
     "name": "stdout",
     "output_type": "stream",
     "text": [
      "[inf, -4, -1, -6, -5]\n",
      "[inf, -3, 0, -5, -4]\n",
      "[inf, -6, -3, -8, -7]\n",
      "[inf, -2, 1, -4, -3]\n",
      "[inf, -7, -4, -9, -8]\n"
     ]
    }
   ],
   "source": [
    "INF = float('inf')\n",
    "\n",
    "def floyd_warshall(graph):\n",
    "    n = len(graph)\n",
    "    dist = [[INF for _ in range(n)] for _ in range(n)]\n",
    "\n",
    "    for u in range(n):\n",
    "        for v, w in graph[u]:\n",
    "            dist[u][v] = w\n",
    "\n",
    "    for k in range(n):\n",
    "        for i in range(n):\n",
    "            for j in range(n):\n",
    "                dist[i][j] = min(dist[i][j], dist[i][k] + dist[k][j])\n",
    "\n",
    "    return dist\n",
    "\n",
    "# example graph\n",
    "graph = {\n",
    "    0: [(1, -1), (2, 4)],\n",
    "    1: [(2, 3), (3, 2), (4, 2)],\n",
    "    2: [(3, -5)],\n",
    "    3: [(1, 1)],\n",
    "    4: [(3, -3)]\n",
    "}\n",
    "\n",
    "# run the algorithm and print the results\n",
    "result = floyd_warshall(graph)\n",
    "for row in result:\n",
    "    print(row)\n"
   ]
  }
 ],
 "metadata": {
  "kernelspec": {
   "display_name": "Python 3",
   "language": "python",
   "name": "python3"
  },
  "language_info": {
   "codemirror_mode": {
    "name": "ipython",
    "version": 3
   },
   "file_extension": ".py",
   "mimetype": "text/x-python",
   "name": "python",
   "nbconvert_exporter": "python",
   "pygments_lexer": "ipython3",
   "version": "3.9.0"
  },
  "orig_nbformat": 4
 },
 "nbformat": 4,
 "nbformat_minor": 2
}
