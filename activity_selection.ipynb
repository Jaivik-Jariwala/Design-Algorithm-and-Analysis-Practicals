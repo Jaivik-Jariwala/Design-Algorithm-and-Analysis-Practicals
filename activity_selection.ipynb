{
 "cells": [
  {
   "attachments": {},
   "cell_type": "markdown",
   "metadata": {},
   "source": [
    "Activity Selection "
   ]
  },
  {
   "attachments": {},
   "cell_type": "markdown",
   "metadata": {},
   "source": [
    "The Activity Selection algorithm is a greedy algorithm used to solve the problem of selecting the maximum number of non-overlapping activities from a set of activities, where each activity has a start and end time. The algorithm works by selecting the activity with the earliest end time, and then selecting the next activity that does not overlap with the previously selected activity, and so on, until no more activities can be selected."
   ]
  },
  {
   "cell_type": "code",
   "execution_count": 1,
   "metadata": {},
   "outputs": [
    {
     "name": "stdout",
     "output_type": "stream",
     "text": [
      "[(1, 2), (3, 4), (5, 7), (8, 9)]\n"
     ]
    }
   ],
   "source": [
    "def activity_selection(start_time, end_time):\n",
    "    # Combine start time and end time in a list\n",
    "    activities = list(zip(start_time, end_time))\n",
    "\n",
    "    # Sort activities by their end time\n",
    "    activities.sort(key=lambda x: x[1])\n",
    "\n",
    "    # Select the first activity \n",
    "    selected_activity = [activities[0]]\n",
    "\n",
    "    # Loop through the rest of the activities\n",
    "    for activity in activities[1:]:\n",
    "        # If the start time of the current activity is greater than or equal to the end time of the last selected activity, select the current activity\n",
    "        if activity[0] >= selected_activity[-1][1]:\n",
    "            selected_activity.append(activity)\n",
    "\n",
    "    return selected_activity\n",
    "\n",
    "# Example usage\n",
    "start_time = [1, 3, 0, 5, 8, 5]\n",
    "end_time = [2, 4, 6, 7, 9, 9]\n",
    "selected_activities = activity_selection(start_time, end_time)\n",
    "print(selected_activities)\n"
   ]
  },
  {
   "attachments": {},
   "cell_type": "markdown",
   "metadata": {},
   "source": [
    "The input to the algorithm is two lists: start_time and end_time, which represent the start and end times of the activities. The activities list is created by combining start_time and end_time into a list of tuples. The activities list is then sorted by the end time of each activity, using a lambda function to access the end time.\n",
    "\n",
    "The algorithm then selects the first activity as the selected_activity list, and loops through the rest of the activities. If the start time of the current activity is greater than or equal to the end time of the last selected activity, the current activity is added to the selected_activity list.\n",
    "\n",
    "At the end of the loop, the selected_activity list contains the maximum number of non-overlapping activities that can be selected."
   ]
  },
  {
   "attachments": {},
   "cell_type": "markdown",
   "metadata": {},
   "source": [
    "we define the activity_selection function and then use it to select the maximum number of non-overlapping activities from two lists of start and end times. We then print the selected activities to the console.\n",
    "\n",
    "You can replace the start_time and end_time lists with your own data to test the function."
   ]
  }
 ],
 "metadata": {
  "kernelspec": {
   "display_name": "Python 3",
   "language": "python",
   "name": "python3"
  },
  "language_info": {
   "codemirror_mode": {
    "name": "ipython",
    "version": 3
   },
   "file_extension": ".py",
   "mimetype": "text/x-python",
   "name": "python",
   "nbconvert_exporter": "python",
   "pygments_lexer": "ipython3",
   "version": "3.9.0"
  },
  "orig_nbformat": 4,
  "vscode": {
   "interpreter": {
    "hash": "188d264ca1eda4d3aebc13d2453f994efceb41ce94060aadba5bb6351ccb2f87"
   }
  }
 },
 "nbformat": 4,
 "nbformat_minor": 2
}
