{
 "cells": [
  {
   "cell_type": "code",
   "execution_count": 3,
   "metadata": {},
   "outputs": [],
   "source": [
    "def is_valid(board, row, col):\n",
    "    # Check if the given position is valid\n",
    "    for i in range(row):\n",
    "        if board[i] == col or abs(board[i] - col) == abs(i - row):\n",
    "            return False\n",
    "    return True\n",
    "\n",
    "def backtrack(board, row, n, solutions):\n",
    "    # If we have placed all n queens, add the solution to the list of solutions\n",
    "    if row == n:\n",
    "        solutions.append(board[:])\n",
    "        return\n",
    "\n",
    "    # Try to place a queen in each column of the current row\n",
    "    for col in range(n):\n",
    "        if is_valid(board, row, col):\n",
    "            board[row] = col\n",
    "            backtrack(board, row+1, n, solutions)\n",
    "            board[row] = -1\n",
    "\n",
    "def solve_n_queens(n):\n",
    "    board = [-1] * n\n",
    "    solutions = []\n",
    "    backtrack(board, 0, n, solutions)\n",
    "    return solutions\n"
   ]
  },
  {
   "cell_type": "code",
   "execution_count": 4,
   "metadata": {},
   "outputs": [
    {
     "data": {
      "text/plain": [
       "[[1, 3, 0, 2], [2, 0, 3, 1]]"
      ]
     },
     "execution_count": 4,
     "metadata": {},
     "output_type": "execute_result"
    }
   ],
   "source": [
    "[[1, 3, 0, 2], [2, 0, 3, 1]]\n"
   ]
  },
  {
   "cell_type": "code",
   "execution_count": 5,
   "metadata": {},
   "outputs": [],
   "source": [
    "def is_safe(board, row, col, n):\n",
    "    # Check if there is a queen in the same row\n",
    "    for i in range(col):\n",
    "        if board[row][i] == 1:\n",
    "            return False\n",
    "\n",
    "    # Check if there is a queen in the upper diagonal\n",
    "    for i, j in zip(range(row, -1, -1), range(col, -1, -1)):\n",
    "        if board[i][j] == 1:\n",
    "            return False\n",
    "\n",
    "    # Check if there is a queen in the lower diagonal\n",
    "    for i, j in zip(range(row, n, 1), range(col, -1, -1)):\n",
    "        if board[i][j] == 1:\n",
    "            return False\n",
    "\n",
    "    return True\n",
    "\n",
    "\n",
    "def solve_n_queens_util(board, col, n):\n",
    "    if col >= n:\n",
    "        return True\n",
    "\n",
    "    for i in range(n):\n",
    "        if is_safe(board, i, col, n):\n",
    "            board[i][col] = 1\n",
    "            if solve_n_queens_util(board, col + 1, n):\n",
    "                return True\n",
    "            board[i][col] = 0\n",
    "\n",
    "    return False\n",
    "\n",
    "\n",
    "def solve_n_queens(n):\n",
    "    board = [[0 for x in range(n)] for y in range(n)]\n",
    "    if solve_n_queens_util(board, 0, n) == False:\n",
    "        print(\"No solution found\")\n",
    "        return False\n",
    "\n",
    "    print(\"Solution found:\")\n",
    "    for i in range(n):\n",
    "        for j in range(n):\n",
    "            print(board[i][j], end=' ')\n",
    "        print()\n",
    "\n",
    "    return True\n"
   ]
  },
  {
   "cell_type": "code",
   "execution_count": 6,
   "metadata": {},
   "outputs": [
    {
     "name": "stdout",
     "output_type": "stream",
     "text": [
      "Solution found:\n",
      "1 0 0 0 0 0 0 0 0 0 0 0 0 0 0 0 \n",
      "0 0 0 1 0 0 0 0 0 0 0 0 0 0 0 0 \n",
      "0 1 0 0 0 0 0 0 0 0 0 0 0 0 0 0 \n",
      "0 0 0 0 0 0 0 0 0 0 0 0 1 0 0 0 \n",
      "0 0 1 0 0 0 0 0 0 0 0 0 0 0 0 0 \n",
      "0 0 0 0 0 0 0 0 0 1 0 0 0 0 0 0 \n",
      "0 0 0 0 0 0 0 0 0 0 0 1 0 0 0 0 \n",
      "0 0 0 0 0 0 0 0 0 0 0 0 0 0 1 0 \n",
      "0 0 0 0 0 1 0 0 0 0 0 0 0 0 0 0 \n",
      "0 0 0 0 0 0 0 0 0 0 0 0 0 0 0 1 \n",
      "0 0 0 0 0 0 0 0 0 0 0 0 0 1 0 0 \n",
      "0 0 0 0 0 0 0 1 0 0 0 0 0 0 0 0 \n",
      "0 0 0 0 1 0 0 0 0 0 0 0 0 0 0 0 \n",
      "0 0 0 0 0 0 1 0 0 0 0 0 0 0 0 0 \n",
      "0 0 0 0 0 0 0 0 1 0 0 0 0 0 0 0 \n",
      "0 0 0 0 0 0 0 0 0 0 1 0 0 0 0 0 \n"
     ]
    },
    {
     "data": {
      "text/plain": [
       "True"
      ]
     },
     "execution_count": 6,
     "metadata": {},
     "output_type": "execute_result"
    }
   ],
   "source": [
    "n = 16\n",
    "solve_n_queens(n)\n"
   ]
  },
  {
   "attachments": {},
   "cell_type": "markdown",
   "metadata": {},
   "source": [
    "To solve the n-queens problem using backtracking, we start by placing a queen in the first row of the board. We then move to the next row and try to place a queen in a valid column. If we cannot place a queen in any column in the current row without conflicting with the previously placed queens, we backtrack to the previous row and try the next column. We repeat this process until we have placed all n queens on the board, or until we have exhausted all possible placements without finding a valid solution."
   ]
  }
 ],
 "metadata": {
  "kernelspec": {
   "display_name": "Python 3",
   "language": "python",
   "name": "python3"
  },
  "language_info": {
   "codemirror_mode": {
    "name": "ipython",
    "version": 3
   },
   "file_extension": ".py",
   "mimetype": "text/x-python",
   "name": "python",
   "nbconvert_exporter": "python",
   "pygments_lexer": "ipython3",
   "version": "3.9.0"
  },
  "orig_nbformat": 4
 },
 "nbformat": 4,
 "nbformat_minor": 2
}
