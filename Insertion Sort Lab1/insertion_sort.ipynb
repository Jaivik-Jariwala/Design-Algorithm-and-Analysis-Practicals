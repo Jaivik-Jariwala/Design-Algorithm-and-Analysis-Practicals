{
 "cells": [
  {
   "attachments": {},
   "cell_type": "markdown",
   "metadata": {},
   "source": [
    "NAME : JAIVIK JARIWALA\n",
    "ROLL NUMBER : 21BCP004\n",
    "DIVISON : 1 \n",
    "GROUP : 1"
   ]
  },
  {
   "cell_type": "code",
   "execution_count": 37,
   "metadata": {},
   "outputs": [
    {
     "name": "stdout",
     "output_type": "stream",
     "text": [
      "NAME : JAIVIK JARIWALA ROLL NUMBER : 21BCP004 DIVISON : 1 GROUP : 1\n"
     ]
    }
   ],
   "source": [
    "print(\"NAME : JAIVIK JARIWALA ROLL NUMBER : 21BCP004 DIVISON : 1 GROUP : 1\")"
   ]
  },
  {
   "attachments": {},
   "cell_type": "markdown",
   "metadata": {},
   "source": [
    "Aim : \n",
    "\n",
    "To Perform Insertion sort on the Randomly generated arrays"
   ]
  },
  {
   "attachments": {},
   "cell_type": "markdown",
   "metadata": {},
   "source": [
    "Introduction : \n",
    "\n",
    "Insertion sort algorithm involves the sorted list created based on an iterative comparison of each element in the list with its adjacent element.\n",
    "An index pointing at the current element indicates the position of the sort. At the beginning of the sort (index=0), the current value is compared to the adjacent value to the left. If the value is greater than the current value, no modifications are made to the list; this is also the case if the adjacent value and the current value are the same numbers. \n",
    "However, if the adjacent value to the left of the current value is lesser, then the adjacent value position is moved to the left, and only stops moving to the left if the value to the left of it is lesser.\n",
    "The diagram illustrates the procedures taken in the insertion algorithm on an unsorted list. The list in the diagram below is sorted in ascending order (lowest to highest)."
   ]
  },
  {
   "attachments": {},
   "cell_type": "markdown",
   "metadata": {},
   "source": [
    "PseudoCode:\n",
    "\n",
    "insertionSort(array)\n",
    "  mark first element as sorted\n",
    "  for each unsorted element X\n",
    "    'extract' the element X\n",
    "    for j <- lastSortedIndex down to 0\n",
    "      if current element j > X\n",
    "        move sorted element to the right by 1\n",
    "    break loop and insert X here\n",
    "end insertionSort"
   ]
  },
  {
   "attachments": {},
   "cell_type": "markdown",
   "metadata": {},
   "source": [
    "Program : "
   ]
  },
  {
   "attachments": {},
   "cell_type": "markdown",
   "metadata": {},
   "source": [
    "for Average Case"
   ]
  },
  {
   "cell_type": "code",
   "execution_count": 1,
   "metadata": {},
   "outputs": [
    {
     "name": "stdout",
     "output_type": "stream",
     "text": [
      "unsorted array is : \n",
      "[8 8 0 4 5 0 2 9 2 0]\n",
      "sorted array is :  [0 0 0 2 2 4 5 8 8 9]\n",
      "number of times loop :  26\n",
      "compilation time :  0.0009992122650146484\n"
     ]
    }
   ],
   "source": [
    "import numpy\n",
    "arr = numpy.random.randint(10, size=(10))\n",
    "\n",
    "import time\n",
    "start_time = time.time()\n",
    "\n",
    "def insertion_sort(arr):\n",
    "    count = 0\n",
    "    for i in range(0,len(arr)):\n",
    "        val=arr[i]\n",
    "        j=i-1\n",
    "        while j>=0 and val<arr[j]:\n",
    "            arr[j+1] = arr[j]\n",
    "            j-=1\n",
    "            count+=1\n",
    "        arr[j+1]=val\n",
    "    return(arr, count)\n",
    "\n",
    "\n",
    "print(\"unsorted array is : \" )\n",
    "print(arr)\n",
    "\n",
    "arr, count = insertion_sort(arr)\n",
    "end_time =time.time()\n",
    "compilation_time = end_time - start_time\n",
    "\n",
    "print(\"sorted array is : \" ,arr)\n",
    "print(\"number of times loop : \",count)\n",
    "print(\"compilation time : \",compilation_time)\n"
   ]
  },
  {
   "attachments": {},
   "cell_type": "markdown",
   "metadata": {},
   "source": [
    "For best case"
   ]
  },
  {
   "cell_type": "code",
   "execution_count": 4,
   "metadata": {},
   "outputs": [
    {
     "name": "stdout",
     "output_type": "stream",
     "text": [
      "unsorted array is :  [ 0  0  1  1  1  3  6  7  7  7  8  8 11 11 13 13 13 14 15 16 16 18 18 19\n",
      " 20 20 21 22 24 27 27 28 32 32 33 33 38 39 39 40 40 40 43 43 44 46 47 48\n",
      " 48 49 49 54 55 58 61 62 62 63 63 64 65 66 66 67 68 69 71 71 72 72 72 73\n",
      " 74 78 78 79 80 80 83 84 84 84 87 92 92 92 93 93 93 94 94 94 95 96 96 97\n",
      " 98 98 98 99]\n",
      "sorted array is :  [ 0  0  1  1  1  3  6  7  7  7  8  8 11 11 13 13 13 14 15 16 16 18 18 19\n",
      " 20 20 21 22 24 27 27 28 32 32 33 33 38 39 39 40 40 40 43 43 44 46 47 48\n",
      " 48 49 49 54 55 58 61 62 62 63 63 64 65 66 66 67 68 69 71 71 72 72 72 73\n",
      " 74 78 78 79 80 80 83 84 84 84 87 92 92 92 93 93 93 94 94 94 95 96 96 97\n",
      " 98 98 98 99]\n",
      "number of times loop :  0\n",
      "compilation time :  0.001146078109741211\n"
     ]
    }
   ],
   "source": [
    "import numpy\n",
    "arr = numpy.random.randint(100, size=(100))\n",
    "\n",
    "import time\n",
    "start_time = time.time()\n",
    "\n",
    "def insertion_sort(arr):\n",
    "    count = 0\n",
    "    for i in range(0,len(arr)):\n",
    "        val=arr[i]\n",
    "        j=i-1\n",
    "        while j>=0 and val<arr[j]:\n",
    "            arr[j+1] = arr[j]\n",
    "            j-=1\n",
    "            count+=1\n",
    "        arr[j+1]=val\n",
    "    return(arr, count)\n",
    "\n",
    "arr, count = insertion_sort(arr)\n",
    "\n",
    "print(\"unsorted array is : \" ,arr)\n",
    "\n",
    "arr, count = insertion_sort(arr)\n",
    "end_time =time.time()\n",
    "compilation_time = end_time - start_time\n",
    "\n",
    "print(\"sorted array is : \" ,arr)\n",
    "print(\"number of times loop : \",count)\n",
    "print(\"compilation time : \",compilation_time)\n"
   ]
  },
  {
   "attachments": {},
   "cell_type": "markdown",
   "metadata": {},
   "source": [
    "for worst case"
   ]
  },
  {
   "cell_type": "code",
   "execution_count": 12,
   "metadata": {},
   "outputs": [
    {
     "name": "stdout",
     "output_type": "stream",
     "text": [
      "unsorted array is :  [99 99 98 98 97 96 96 96 95 95 92 92 90 88 88 85 85 84 83 82 80 79 79 74\n",
      " 73 72 71 70 69 68 67 66 66 65 65 65 65 63 63 57 57 57 57 56 56 54 54 53\n",
      " 53 52 51 50 50 50 47 46 43 42 42 42 42 41 41 36 36 35 35 34 32 31 30 30\n",
      " 30 26 25 24 21 20 19 17 17 15 15 15 14 13 12 10 10  9  9  9  6  4  4  2\n",
      "  2  1  0  0]\n",
      "sorted array is :  [ 0  0  1  2  2  4  4  6  9  9  9 10 10 12 13 14 15 15 15 17 17 19 20 21\n",
      " 24 25 26 30 30 30 31 32 34 35 35 36 36 41 41 42 42 42 42 43 46 47 50 50\n",
      " 50 51 52 53 53 54 54 56 56 57 57 57 57 63 63 65 65 65 65 66 66 67 68 69\n",
      " 70 71 72 73 74 79 79 80 82 83 84 85 85 88 88 90 92 92 95 95 96 96 96 97\n",
      " 98 98 99 99]\n",
      "number of times loop :  4897\n",
      "compilation time :  0.0010004043579101562\n"
     ]
    }
   ],
   "source": [
    "import numpy\n",
    "a = numpy.random.randint(100, size=(100))\n",
    "b = numpy.sort(a)\n",
    "arr = numpy.flip(b)\n",
    "\n",
    "import time\n",
    "start_time = time.time()\n",
    "\n",
    "def insertion_sort(arr):\n",
    "    count = 0\n",
    "    for i in range(0,len(arr)):\n",
    "        val=arr[i]\n",
    "        j=i-1\n",
    "        while j>=0 and val<arr[j]:\n",
    "            arr[j+1] = arr[j]\n",
    "            j-=1\n",
    "            count+=1\n",
    "        arr[j+1]=val\n",
    "    return(arr, count)\n",
    "\n",
    "\n",
    "\n",
    "print(\"unsorted array is : \" ,arr)\n",
    "\n",
    "arr, count = insertion_sort(arr)\n",
    "end_time =time.time()\n",
    "compilation_time = end_time - start_time\n",
    "\n",
    "print(\"sorted array is : \" ,arr)\n",
    "print(\"number of times loop : \",count)\n",
    "print(\"compilation time : \",compilation_time)\n"
   ]
  },
  {
   "attachments": {
    "image.png": {
     "image/png": "[encoded data removed]"
    }
   },
   "cell_type": "markdown",
   "metadata": {},
   "source": [
    "Results\n",
    "\n",
    "![image.png](attachment:image.png)"
   ]
  },
  {
   "cell_type": "code",
   "execution_count": 36,
   "metadata": {},
   "outputs": [
    {
     "ename": "ModuleNotFoundError",
     "evalue": "No module named 'pandas'",
     "output_type": "error",
     "traceback": [
      "\u001b[1;31m---------------------------------------------------------------------------\u001b[0m",
      "\u001b[1;31mModuleNotFoundError\u001b[0m                       Traceback (most recent call last)",
      "Cell \u001b[1;32mIn[36], line 1\u001b[0m\n\u001b[1;32m----> 1\u001b[0m \u001b[39mimport\u001b[39;00m \u001b[39mpandas\u001b[39;00m \u001b[39mas\u001b[39;00m \u001b[39mpd\u001b[39;00m\n\u001b[0;32m      2\u001b[0m stats \u001b[39m=\u001b[39m pd\u001b[39m.\u001b[39mread_excel(\u001b[39m'\u001b[39m\u001b[39mstats.xlsx\u001b[39m\u001b[39m'\u001b[39m)\n\u001b[0;32m      3\u001b[0m \u001b[39mprint\u001b[39m(stats)\n",
      "\u001b[1;31mModuleNotFoundError\u001b[0m: No module named 'pandas'"
     ]
    }
   ],
   "source": [
    "import pandas as pd\n",
    "\n",
    "file_name = 'data.xlsx'\n",
    "data = pd.read_excel(file_name)\n",
    "\n",
    "print(data)\n"
   ]
  },
  {
   "attachments": {},
   "cell_type": "markdown",
   "metadata": {},
   "source": [
    "Application : \n",
    "\n",
    "1. Since the time complexity of Insertion sort can go to O(N^2), it is only useful when we have a lesser number of elements to sort in an array.\n",
    "2. Insertion sort is an in-place algorithm, meaning it requires no extra space.\n",
    "3. Maintains relative order of the input data in case of two equal values (stable).\n"
   ]
  },
  {
   "attachments": {},
   "cell_type": "markdown",
   "metadata": {},
   "source": [
    "References : \n",
    "\n",
    "Insertion Sort is O(n log n)\n",
    "June 2006Theory of Computing Systems 39(3)\n",
    "DOI:10.1007/s00224-005-1237-z\n",
    "by Micheal A Bender , Martin Farah -Colton and Miguel A Mosterio"
   ]
  }
 ],
 "metadata": {
  "kernelspec": {
   "display_name": "Python 3",
   "language": "python",
   "name": "python3"
  },
  "language_info": {
   "codemirror_mode": {
    "name": "ipython",
    "version": 3
   },
   "file_extension": ".py",
   "mimetype": "text/x-python",
   "name": "python",
   "nbconvert_exporter": "python",
   "pygments_lexer": "ipython3",
   "version": "3.10.9"
  },
  "orig_nbformat": 4,
  "vscode": {
   "interpreter": {
    "hash": "02a110e1074083a006aec0a8c26b62f40bb8e29fc9e284ac5ec8792dea79dfd5"
   }
  }
 },
 "nbformat": 4,
 "nbformat_minor": 2
}
