{
 "cells": [
  {
   "attachments": {},
   "cell_type": "markdown",
   "metadata": {},
   "source": [
    "# **Problem**"
   ]
  },
  {
   "attachments": {},
   "cell_type": "markdown",
   "metadata": {},
   "source": [
    "Implement a city database using unordered lists . each database reocrd contains the name of city (a string of arbitary length) and the coordinates of the city expresses as interger x and y  coordinates . your program should allow following instruction . \n",
    "\n",
    "a) insert record \n",
    "\n",
    "b) delete record by name or coordinate \n",
    "\n",
    "c) search a record by name or coordinate \n",
    "\n",
    "d) Point all records within a given distance of specific point "
   ]
  },
  {
   "cell_type": "markdown",
   "metadata": {},
   "source": []
  },
  {
   "cell_type": "code",
   "execution_count": 10,
   "metadata": {},
   "outputs": [],
   "source": [
    "class City:\n",
    "    def __init__(self, name, x, y):\n",
    "        self.name = name\n",
    "        self.x = x\n",
    "        self.y = y\n",
    "   "
   ]
  },
  {
   "attachments": {},
   "cell_type": "markdown",
   "metadata": {},
   "source": [
    "* **Insert Record**"
   ]
  },
  {
   "cell_type": "code",
   "execution_count": null,
   "metadata": {},
   "outputs": [],
   "source": [
    "def insert(self, name, x, y):\n",
    "    city = City(name, x, y)\n",
    "    self.cities.append(city)"
   ]
  },
  {
   "cell_type": "code",
   "execution_count": null,
   "metadata": {},
   "outputs": [],
   "source": []
  },
  {
   "attachments": {},
   "cell_type": "markdown",
   "metadata": {},
   "source": [
    "* **Delete Record**"
   ]
  },
  {
   "cell_type": "code",
   "execution_count": null,
   "metadata": {},
   "outputs": [],
   "source": [
    "def delete_by_name(self, name):\n",
    "    for city in self.cities:\n",
    "        if city.name == name:\n",
    "           self.cities.remove(city)\n",
    "    \n",
    "def delete_by_coordinate(self, x, y):\n",
    "    for city in self.cities:\n",
    "        if city.x == x and city.y == y:\n",
    "            self.cities.remove(city)"
   ]
  },
  {
   "attachments": {},
   "cell_type": "markdown",
   "metadata": {},
   "source": [
    "* **Search Record**"
   ]
  },
  {
   "cell_type": "code",
   "execution_count": null,
   "metadata": {},
   "outputs": [],
   "source": [
    "def search_by_name(self, name):\n",
    "        for city in self.cities:\n",
    "            if city.name == name:\n",
    "                return city\n",
    "    \n",
    "def search_by_coordinate(self, x, y):\n",
    "    for city in self.cities:\n",
    "        if city.x == x and city.y == y:\n",
    "            return city"
   ]
  },
  {
   "attachments": {},
   "cell_type": "markdown",
   "metadata": {},
   "source": [
    "* **Distance from a specific Point**"
   ]
  },
  {
   "cell_type": "code",
   "execution_count": null,
   "metadata": {},
   "outputs": [],
   "source": [
    "def print_all_within_distance(self, x, y, distance):\n",
    "    for city in self.cities:\n",
    "        if ((city.x - x)**2 + (city.y - y)**2)**0.5 <= distance:\n",
    "            print(city.name)"
   ]
  },
  {
   "attachments": {},
   "cell_type": "markdown",
   "metadata": {},
   "source": [
    "* **Database** "
   ]
  }
 ],
 "metadata": {
  "kernelspec": {
   "display_name": "Python 3",
   "language": "python",
   "name": "python3"
  },
  "language_info": {
   "codemirror_mode": {
    "name": "ipython",
    "version": 3
   },
   "file_extension": ".py",
   "mimetype": "text/x-python",
   "name": "python",
   "nbconvert_exporter": "python",
   "pygments_lexer": "ipython3",
   "version": "3.9.0"
  },
  "orig_nbformat": 4
 },
 "nbformat": 4,
 "nbformat_minor": 2
}
