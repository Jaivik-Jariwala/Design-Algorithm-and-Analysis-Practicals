{
 "cells": [
  {
   "attachments": {},
   "cell_type": "markdown",
   "metadata": {},
   "source": [
    "Aim : \n",
    "To Perform Selection Sort on the Randomly generated arrays"
   ]
  },
  {
   "attachments": {},
   "cell_type": "markdown",
   "metadata": {},
   "source": [
    "Introduction : \n",
    "\n",
    "It finds the smallest value among the unsorted elements of the array is passed and every pass is inserted to appropriate position into array. howevver it is an in-place comparison sorting algorithm meaning it deivide the array into 2 parts and first is sorted and other is unsorted while sorted is empty and unsorted is our array. the worst case and average case is O(n^2) . used when array is small or swapping cost doesn't matter as it checks all elements compulsorily"
   ]
  },
  {
   "attachments": {},
   "cell_type": "markdown",
   "metadata": {},
   "source": [
    "Algorithm \n",
    "\n",
    "SELECTION SORT(arr, n)  \n",
    "  \n",
    "Step 1: Repeat Steps 2 and 3 for i = 0 to n-1  \n",
    "Step 2: CALL SMALLEST(arr, i, n, pos)  \n",
    "Step 3: SWAP arr[i] with arr[pos]  \n",
    "[END OF LOOP]  \n",
    "Step 4: EXIT  \n",
    "  \n",
    "SMALLEST (arr, i, n, pos)  \n",
    "Step 1: [INITIALIZE] SET SMALL = arr[i]  \n",
    "Step 2: [INITIALIZE] SET pos = i  \n",
    "Step 3: Repeat for j = i+1 to n  \n",
    "if (SMALL > arr[j])  \n",
    "     SET SMALL = arr[j]  \n",
    "SET pos = j  \n",
    "[END OF if]  \n",
    "[END OF LOOP]  \n",
    "Step 4: RETURN pos  "
   ]
  },
  {
   "attachments": {},
   "cell_type": "markdown",
   "metadata": {},
   "source": [
    "For Average Case :"
   ]
  },
  {
   "cell_type": "code",
   "execution_count": null,
   "metadata": {},
   "outputs": [],
   "source": [
    "import numpy\n",
    "import time\n",
    "\n",
    "arr = numpy.random.randint(100, size=(100000))\n",
    "start_time = time.time()\n",
    "\n",
    "def selection(arr): \n",
    "    count=0\n",
    "    for i in range(len(arr)):\n",
    "        min = i \n",
    "        for j in range(i+1, len(arr)):  \n",
    "            count += 1\n",
    "            if arr[min] > arr[j]:  \n",
    "                min = j  \n",
    "        arr[i], arr[min] = arr[min], arr[i]\n",
    "    return count\n",
    "              \n",
    "def printArr(a): \n",
    "    for i in range(len(a)):  \n",
    "        print (a[i], end = \" \")  \n",
    "  \n",
    "print(\"Before sorting array elements are - \")  \n",
    "printArr(arr)  \n",
    "count = selection(arr)  \n",
    "print(\"\\nAfter sorting array elements are - \")  \n",
    "printArr(arr)\n",
    "print(\"\\nNumber of iterations: \", count)\n",
    "print(\"\\nTime taken: \", time.time() - start_time)\n"
   ]
  },
  {
   "attachments": {},
   "cell_type": "markdown",
   "metadata": {},
   "source": [
    "For Best Case :"
   ]
  },
  {
   "cell_type": "code",
   "execution_count": null,
   "metadata": {},
   "outputs": [],
   "source": [
    "import numpy\n",
    "import time\n",
    "\n",
    "a = numpy.random.randint(100, size=(100))\n",
    "arr = numpy.sort(a)\n",
    "start_time = time.time()\n",
    "\n",
    "def selection(arr): \n",
    "    count=0\n",
    "    for i in range(len(arr)):\n",
    "        min = i \n",
    "        for j in range(i+1, len(arr)):  \n",
    "            count += 1\n",
    "            if arr[min] > arr[j]:  \n",
    "                min = j  \n",
    "        arr[i], arr[min] = arr[min], arr[i]\n",
    "    return count\n",
    "              \n",
    "def printArr(a): \n",
    "    for i in range(len(a)):  \n",
    "        print (a[i], end = \" \")  \n",
    "  \n",
    "print(\"Before sorting array elements are - \")  \n",
    "printArr(arr)  \n",
    "count = selection(arr)  \n",
    "print(\"\\nAfter sorting array elements are - \")  \n",
    "printArr(arr)\n",
    "print(\"\\nNumber of iterations: \", count)\n",
    "print(\"\\nTime taken: \", time.time() - start_time)\n"
   ]
  },
  {
   "attachments": {},
   "cell_type": "markdown",
   "metadata": {},
   "source": [
    "For Worst case :"
   ]
  },
  {
   "cell_type": "code",
   "execution_count": null,
   "metadata": {},
   "outputs": [],
   "source": [
    "import numpy\n",
    "import time\n",
    "\n",
    "a = numpy.random.randint(100, size=(1000))\n",
    "b = numpy.sort(a)\n",
    "arr = numpy.flip(b)\n",
    "start_time = time.time()\n",
    "\n",
    "def selection(arr): \n",
    "    count=0\n",
    "    for i in range(len(arr)):\n",
    "        min = i \n",
    "        for j in range(i+1, len(arr)):  \n",
    "            count += 1\n",
    "            if arr[min] > arr[j]:  \n",
    "                min = j  \n",
    "        arr[i], arr[min] = arr[min], arr[i]\n",
    "    return count\n",
    "              \n",
    "def printArr(a): \n",
    "    for i in range(len(a)):  \n",
    "        print (a[i], end = \" \")  \n",
    "  \n",
    "print(\"Before sorting array elements are - \")  \n",
    "printArr(arr)  \n",
    "count = selection(arr)  \n",
    "print(\"\\nAfter sorting array elements are - \")  \n",
    "printArr(arr)\n",
    "print(\"\\nNumber of iterations: \", count)\n",
    "print(\"\\nTime taken: \", time.time() - start_time)\n"
   ]
  },
  {
   "attachments": {
    "image.png": {
     "image/png": "[encoded data removed]"
    }
   },
   "cell_type": "markdown",
   "metadata": {},
   "source": [
    "Result : \n",
    "\n",
    "![image.png](attachment:image.png)"
   ]
  },
  {
   "attachments": {},
   "cell_type": "markdown",
   "metadata": {},
   "source": [
    "Applications : \n",
    "\n",
    "Facial Recogintion \n",
    "Google Search\n",
    "Scheduling - transport network"
   ]
  },
  {
   "attachments": {},
   "cell_type": "markdown",
   "metadata": {},
   "source": [
    "References :\n",
    "\n",
    "Selection Sort: A Comparative Study\n",
    " by H. L. Bodla and S. K. Sharma\n",
    "\n",
    " "
   ]
  }
 ],
 "metadata": {
  "kernelspec": {
   "display_name": "base",
   "language": "python",
   "name": "python3"
  },
  "language_info": {
   "codemirror_mode": {
    "name": "ipython",
    "version": 3
   },
   "file_extension": ".py",
   "mimetype": "text/x-python",
   "name": "python",
   "nbconvert_exporter": "python",
   "pygments_lexer": "ipython3",
   "version": "3.10.8 | packaged by conda-forge | (main, Nov 24 2022, 14:07:00) [MSC v.1916 64 bit (AMD64)]"
  },
  "orig_nbformat": 4,
  "vscode": {
   "interpreter": {
    "hash": "894a434185029307df7a6374f09779828e37fda6a452acbd62e81b99ccb88aeb"
   }
  }
 },
 "nbformat": 4,
 "nbformat_minor": 2
}
